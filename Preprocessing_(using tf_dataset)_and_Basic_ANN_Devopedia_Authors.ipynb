{
  "nbformat": 4,
  "nbformat_minor": 0,
  "metadata": {
    "colab": {
      "name": "Preprocessing (removing Tags)  and Basic ANN Devopedia_Authors.ipynb",
      "provenance": [],
      "collapsed_sections": []
    },
    "kernelspec": {
      "name": "python3",
      "display_name": "Python 3"
    },
    "language_info": {
      "name": "python"
    },
    "accelerator": "TPU"
  },
  "cells": [
    {
      "cell_type": "code",
      "metadata": {
        "colab": {
          "base_uri": "https://localhost:8080/"
        },
        "id": "LFfHSvNsSY7h",
        "outputId": "d6dac096-b466-4b1f-c76d-0f6bb7b9426a"
      },
      "source": [
        "from google.colab import drive\n",
        "\n",
        "drive.mount('/content/drive')"
      ],
      "execution_count": null,
      "outputs": [
        {
          "output_type": "stream",
          "text": [
            "Drive already mounted at /content/drive; to attempt to forcibly remount, call drive.mount(\"/content/drive\", force_remount=True).\n"
          ],
          "name": "stdout"
        }
      ]
    },
    {
      "cell_type": "code",
      "metadata": {
        "id": "8w4v0AY4SZbP"
      },
      "source": [
        "import pandas as pd\n",
        "import gc\n",
        "import re\n",
        "from tqdm import tqdm\n",
        "import matplotlib.pyplot as plt\n",
        "import numpy as np\n",
        "\n",
        "import tensorflow as tf\n",
        "import os\n",
        "tf.executing_eagerly()\n",
        "\n",
        "from tensorflow import keras"
      ],
      "execution_count": null,
      "outputs": []
    },
    {
      "cell_type": "code",
      "metadata": {
        "id": "dNju97XWASNh",
        "colab": {
          "base_uri": "https://localhost:8080/"
        },
        "outputId": "567c2017-c440-4e03-8e3f-423d24b6ccbf"
      },
      "source": [
        "resolver = tf.distribute.cluster_resolver.TPUClusterResolver(tpu='grpc://' + os.environ['COLAB_TPU_ADDR'])\n",
        "#Connect to the TPU handle and initialise it\n",
        "tf.config.experimental_connect_to_cluster(resolver)\n",
        "tf.tpu.experimental.initialize_tpu_system(resolver)\n",
        "\n",
        "strategy = tf.distribute.experimental.TPUStrategy(resolver)"
      ],
      "execution_count": null,
      "outputs": [
        {
          "output_type": "stream",
          "text": [
            "INFO:tensorflow:Initializing the TPU system: grpc://10.63.0.42:8470\n"
          ],
          "name": "stdout"
        },
        {
          "output_type": "stream",
          "text": [
            "INFO:tensorflow:Initializing the TPU system: grpc://10.63.0.42:8470\n"
          ],
          "name": "stderr"
        },
        {
          "output_type": "stream",
          "text": [
            "INFO:tensorflow:Clearing out eager caches\n"
          ],
          "name": "stdout"
        },
        {
          "output_type": "stream",
          "text": [
            "INFO:tensorflow:Clearing out eager caches\n"
          ],
          "name": "stderr"
        },
        {
          "output_type": "stream",
          "text": [
            "INFO:tensorflow:Finished initializing TPU system.\n"
          ],
          "name": "stdout"
        },
        {
          "output_type": "stream",
          "text": [
            "INFO:tensorflow:Finished initializing TPU system.\n",
            "WARNING:absl:`tf.distribute.experimental.TPUStrategy` is deprecated, please use  the non experimental symbol `tf.distribute.TPUStrategy` instead.\n"
          ],
          "name": "stderr"
        },
        {
          "output_type": "stream",
          "text": [
            "INFO:tensorflow:Found TPU system:\n"
          ],
          "name": "stdout"
        },
        {
          "output_type": "stream",
          "text": [
            "INFO:tensorflow:Found TPU system:\n"
          ],
          "name": "stderr"
        },
        {
          "output_type": "stream",
          "text": [
            "INFO:tensorflow:*** Num TPU Cores: 8\n"
          ],
          "name": "stdout"
        },
        {
          "output_type": "stream",
          "text": [
            "INFO:tensorflow:*** Num TPU Cores: 8\n"
          ],
          "name": "stderr"
        },
        {
          "output_type": "stream",
          "text": [
            "INFO:tensorflow:*** Num TPU Workers: 1\n"
          ],
          "name": "stdout"
        },
        {
          "output_type": "stream",
          "text": [
            "INFO:tensorflow:*** Num TPU Workers: 1\n"
          ],
          "name": "stderr"
        },
        {
          "output_type": "stream",
          "text": [
            "INFO:tensorflow:*** Num TPU Cores Per Worker: 8\n"
          ],
          "name": "stdout"
        },
        {
          "output_type": "stream",
          "text": [
            "INFO:tensorflow:*** Num TPU Cores Per Worker: 8\n"
          ],
          "name": "stderr"
        },
        {
          "output_type": "stream",
          "text": [
            "INFO:tensorflow:*** Available Device: _DeviceAttributes(/job:localhost/replica:0/task:0/device:CPU:0, CPU, 0, 0)\n"
          ],
          "name": "stdout"
        },
        {
          "output_type": "stream",
          "text": [
            "INFO:tensorflow:*** Available Device: _DeviceAttributes(/job:localhost/replica:0/task:0/device:CPU:0, CPU, 0, 0)\n"
          ],
          "name": "stderr"
        },
        {
          "output_type": "stream",
          "text": [
            "INFO:tensorflow:*** Available Device: _DeviceAttributes(/job:worker/replica:0/task:0/device:CPU:0, CPU, 0, 0)\n"
          ],
          "name": "stdout"
        },
        {
          "output_type": "stream",
          "text": [
            "INFO:tensorflow:*** Available Device: _DeviceAttributes(/job:worker/replica:0/task:0/device:CPU:0, CPU, 0, 0)\n"
          ],
          "name": "stderr"
        },
        {
          "output_type": "stream",
          "text": [
            "INFO:tensorflow:*** Available Device: _DeviceAttributes(/job:worker/replica:0/task:0/device:TPU:0, TPU, 0, 0)\n"
          ],
          "name": "stdout"
        },
        {
          "output_type": "stream",
          "text": [
            "INFO:tensorflow:*** Available Device: _DeviceAttributes(/job:worker/replica:0/task:0/device:TPU:0, TPU, 0, 0)\n"
          ],
          "name": "stderr"
        },
        {
          "output_type": "stream",
          "text": [
            "INFO:tensorflow:*** Available Device: _DeviceAttributes(/job:worker/replica:0/task:0/device:TPU:1, TPU, 0, 0)\n"
          ],
          "name": "stdout"
        },
        {
          "output_type": "stream",
          "text": [
            "INFO:tensorflow:*** Available Device: _DeviceAttributes(/job:worker/replica:0/task:0/device:TPU:1, TPU, 0, 0)\n"
          ],
          "name": "stderr"
        },
        {
          "output_type": "stream",
          "text": [
            "INFO:tensorflow:*** Available Device: _DeviceAttributes(/job:worker/replica:0/task:0/device:TPU:2, TPU, 0, 0)\n"
          ],
          "name": "stdout"
        },
        {
          "output_type": "stream",
          "text": [
            "INFO:tensorflow:*** Available Device: _DeviceAttributes(/job:worker/replica:0/task:0/device:TPU:2, TPU, 0, 0)\n"
          ],
          "name": "stderr"
        },
        {
          "output_type": "stream",
          "text": [
            "INFO:tensorflow:*** Available Device: _DeviceAttributes(/job:worker/replica:0/task:0/device:TPU:3, TPU, 0, 0)\n"
          ],
          "name": "stdout"
        },
        {
          "output_type": "stream",
          "text": [
            "INFO:tensorflow:*** Available Device: _DeviceAttributes(/job:worker/replica:0/task:0/device:TPU:3, TPU, 0, 0)\n"
          ],
          "name": "stderr"
        },
        {
          "output_type": "stream",
          "text": [
            "INFO:tensorflow:*** Available Device: _DeviceAttributes(/job:worker/replica:0/task:0/device:TPU:4, TPU, 0, 0)\n"
          ],
          "name": "stdout"
        },
        {
          "output_type": "stream",
          "text": [
            "INFO:tensorflow:*** Available Device: _DeviceAttributes(/job:worker/replica:0/task:0/device:TPU:4, TPU, 0, 0)\n"
          ],
          "name": "stderr"
        },
        {
          "output_type": "stream",
          "text": [
            "INFO:tensorflow:*** Available Device: _DeviceAttributes(/job:worker/replica:0/task:0/device:TPU:5, TPU, 0, 0)\n"
          ],
          "name": "stdout"
        },
        {
          "output_type": "stream",
          "text": [
            "INFO:tensorflow:*** Available Device: _DeviceAttributes(/job:worker/replica:0/task:0/device:TPU:5, TPU, 0, 0)\n"
          ],
          "name": "stderr"
        },
        {
          "output_type": "stream",
          "text": [
            "INFO:tensorflow:*** Available Device: _DeviceAttributes(/job:worker/replica:0/task:0/device:TPU:6, TPU, 0, 0)\n"
          ],
          "name": "stdout"
        },
        {
          "output_type": "stream",
          "text": [
            "INFO:tensorflow:*** Available Device: _DeviceAttributes(/job:worker/replica:0/task:0/device:TPU:6, TPU, 0, 0)\n"
          ],
          "name": "stderr"
        },
        {
          "output_type": "stream",
          "text": [
            "INFO:tensorflow:*** Available Device: _DeviceAttributes(/job:worker/replica:0/task:0/device:TPU:7, TPU, 0, 0)\n"
          ],
          "name": "stdout"
        },
        {
          "output_type": "stream",
          "text": [
            "INFO:tensorflow:*** Available Device: _DeviceAttributes(/job:worker/replica:0/task:0/device:TPU:7, TPU, 0, 0)\n"
          ],
          "name": "stderr"
        },
        {
          "output_type": "stream",
          "text": [
            "INFO:tensorflow:*** Available Device: _DeviceAttributes(/job:worker/replica:0/task:0/device:TPU_SYSTEM:0, TPU_SYSTEM, 0, 0)\n"
          ],
          "name": "stdout"
        },
        {
          "output_type": "stream",
          "text": [
            "INFO:tensorflow:*** Available Device: _DeviceAttributes(/job:worker/replica:0/task:0/device:TPU_SYSTEM:0, TPU_SYSTEM, 0, 0)\n"
          ],
          "name": "stderr"
        },
        {
          "output_type": "stream",
          "text": [
            "INFO:tensorflow:*** Available Device: _DeviceAttributes(/job:worker/replica:0/task:0/device:XLA_CPU:0, XLA_CPU, 0, 0)\n"
          ],
          "name": "stdout"
        },
        {
          "output_type": "stream",
          "text": [
            "INFO:tensorflow:*** Available Device: _DeviceAttributes(/job:worker/replica:0/task:0/device:XLA_CPU:0, XLA_CPU, 0, 0)\n"
          ],
          "name": "stderr"
        }
      ]
    },
    {
      "cell_type": "code",
      "metadata": {
        "id": "0KW-2h60SjUd"
      },
      "source": [
        "df=pd.read_csv(r'/content/drive/MyDrive/Devopedia/all_full_5.csv')\n",
        "df_author_diagnostics=pd.read_csv(r'/content/drive/MyDrive/Devopedia/Author_diagnostics_full_5.csv')\n",
        "df.drop(['Title','Author','YoPublishing','Title_encoding','YoP_encoding'],axis=1,inplace=True)"
      ],
      "execution_count": null,
      "outputs": []
    },
    {
      "cell_type": "code",
      "metadata": {
        "colab": {
          "base_uri": "https://localhost:8080/"
        },
        "id": "JcV1T9X3Skc9",
        "outputId": "457e2d2d-4feb-4094-fad3-33e059ce4135"
      },
      "source": [
        "print(\"Raw Dataset\")\n",
        "print(df.shape)\n",
        "print(\"No of 0s: \",len(df[df.Author_encoding==0]))\n",
        "print(\"No of 1s: \",len(df[df.Author_encoding==1]))\n",
        "print(\"0:1 ratio:\",len(df[df.Author_encoding==0])/len(df[df.Author_encoding==1]))"
      ],
      "execution_count": null,
      "outputs": [
        {
          "output_type": "stream",
          "text": [
            "Raw Dataset\n",
            "(2194434, 5)\n",
            "No of 0s:  2182944\n",
            "No of 1s:  11490\n",
            "0:1 ratio: 189.9864229765013\n"
          ],
          "name": "stdout"
        }
      ]
    },
    {
      "cell_type": "code",
      "metadata": {
        "colab": {
          "base_uri": "https://localhost:8080/"
        },
        "id": "0qluEE_xSlRl",
        "outputId": "4622e07e-0b80-407f-a38d-3e52af74fe8d"
      },
      "source": [
        "drop_files=[]\n",
        "\n",
        "for i in tqdm(df_author_diagnostics.iterrows()):\n",
        "    if i[1].Distinct_authors_count==0:\n",
        "        drop_files.append(i[1].Fname)"
      ],
      "execution_count": null,
      "outputs": [
        {
          "output_type": "stream",
          "text": [
            "6761it [00:00, 10565.15it/s]\n"
          ],
          "name": "stderr"
        }
      ]
    },
    {
      "cell_type": "code",
      "metadata": {
        "id": "Xi4z2Ey-SqCb"
      },
      "source": [
        "df= df[~df.fname.isin(drop_files)]"
      ],
      "execution_count": null,
      "outputs": []
    },
    {
      "cell_type": "code",
      "metadata": {
        "id": "KPdiy5FJR1Vv"
      },
      "source": [
        "df.reset_index(inplace=True)\n",
        "df.drop('index',axis=1,inplace=True)"
      ],
      "execution_count": null,
      "outputs": []
    },
    {
      "cell_type": "code",
      "metadata": {
        "colab": {
          "base_uri": "https://localhost:8080/"
        },
        "id": "ftgkrGlKSnNZ",
        "outputId": "8e5c9065-4b24-49d5-c138-44219076eb68"
      },
      "source": [
        "print(\"After dropping files\")\n",
        "print(df.shape)\n",
        "print(len(df[df.Author_encoding==0])/len(df[df.Author_encoding==1]))"
      ],
      "execution_count": null,
      "outputs": [
        {
          "output_type": "stream",
          "text": [
            "After dropping files\n",
            "(1634264, 5)\n",
            "141.23359442993907\n"
          ],
          "name": "stdout"
        }
      ]
    },
    {
      "cell_type": "code",
      "metadata": {
        "id": "-jnnWHNpAlkU"
      },
      "source": [
        "tag_special_char_check=re.compile('[^a-zA-Z]')\n",
        "\n",
        "one_hot=pd.get_dummies(df.Tag)"
      ],
      "execution_count": null,
      "outputs": []
    },
    {
      "cell_type": "code",
      "metadata": {
        "colab": {
          "base_uri": "https://localhost:8080/"
        },
        "id": "TTEZ3kX4CfEX",
        "outputId": "932d8f8d-9db4-434f-81ad-f305bd9f2e3e"
      },
      "source": [
        "one_hot.shape"
      ],
      "execution_count": null,
      "outputs": [
        {
          "output_type": "execute_result",
          "data": {
            "text/plain": [
              "(1634264, 301)"
            ]
          },
          "metadata": {
            "tags": []
          },
          "execution_count": 11
        }
      ]
    },
    {
      "cell_type": "code",
      "metadata": {
        "colab": {
          "base_uri": "https://localhost:8080/"
        },
        "id": "XEPxeNHzCVdQ",
        "outputId": "b94c6b5e-68e3-4c4b-d6c3-ebbfe7701c03"
      },
      "source": [
        "allowed_tags=[]\n",
        "\n",
        "for i in tqdm(one_hot):\n",
        "  if tag_special_char_check.search(i)==None:\n",
        "    allowed_tags.append(i)\n",
        "\n",
        "del one_hot\n",
        "gc.collect()\n"
      ],
      "execution_count": null,
      "outputs": [
        {
          "output_type": "stream",
          "text": [
            "  0%|          | 301/1634264 [00:00<00:10, 151286.46it/s]\n"
          ],
          "name": "stderr"
        },
        {
          "output_type": "execute_result",
          "data": {
            "text/plain": [
              "22"
            ]
          },
          "metadata": {
            "tags": []
          },
          "execution_count": 12
        }
      ]
    },
    {
      "cell_type": "code",
      "metadata": {
        "id": "Hrwt41Z3C5KG"
      },
      "source": [
        "df=df[df.Tag.isin(allowed_tags)]"
      ],
      "execution_count": null,
      "outputs": []
    },
    {
      "cell_type": "code",
      "metadata": {
        "id": "IMVpWDquR3lD"
      },
      "source": [
        "df.reset_index(inplace=True)\n",
        "df.drop('index',axis=1,inplace=True)"
      ],
      "execution_count": null,
      "outputs": []
    },
    {
      "cell_type": "code",
      "metadata": {
        "colab": {
          "base_uri": "https://localhost:8080/",
          "height": 402
        },
        "id": "Bdq5bbPGR4In",
        "outputId": "362661c7-966e-4e3f-b6cc-f059672c1577"
      },
      "source": [
        "df"
      ],
      "execution_count": null,
      "outputs": [
        {
          "output_type": "execute_result",
          "data": {
            "text/html": [
              "<div>\n",
              "<style scoped>\n",
              "    .dataframe tbody tr th:only-of-type {\n",
              "        vertical-align: middle;\n",
              "    }\n",
              "\n",
              "    .dataframe tbody tr th {\n",
              "        vertical-align: top;\n",
              "    }\n",
              "\n",
              "    .dataframe thead th {\n",
              "        text-align: right;\n",
              "    }\n",
              "</style>\n",
              "<table border=\"1\" class=\"dataframe\">\n",
              "  <thead>\n",
              "    <tr style=\"text-align: right;\">\n",
              "      <th></th>\n",
              "      <th>fname</th>\n",
              "      <th>Author_encoding</th>\n",
              "      <th>SerialNo</th>\n",
              "      <th>Tag</th>\n",
              "      <th>Text</th>\n",
              "    </tr>\n",
              "  </thead>\n",
              "  <tbody>\n",
              "    <tr>\n",
              "      <th>0</th>\n",
              "      <td>00031cefe68278406ddac7764d46275a56a13558c3bfee...</td>\n",
              "      <td>0</td>\n",
              "      <td>1</td>\n",
              "      <td>title</td>\n",
              "      <td>Full Page Reload</td>\n",
              "    </tr>\n",
              "    <tr>\n",
              "      <th>1</th>\n",
              "      <td>00031cefe68278406ddac7764d46275a56a13558c3bfee...</td>\n",
              "      <td>0</td>\n",
              "      <td>2</td>\n",
              "      <td>header</td>\n",
              "      <td>Join IEEE | IEEE.org | IEEE Xplore Digital Lib...</td>\n",
              "    </tr>\n",
              "    <tr>\n",
              "      <th>2</th>\n",
              "      <td>00031cefe68278406ddac7764d46275a56a13558c3bfee...</td>\n",
              "      <td>0</td>\n",
              "      <td>3</td>\n",
              "      <td>ul</td>\n",
              "      <td>Join IEEE | IEEE.org | IEEE Xplore Digital Lib...</td>\n",
              "    </tr>\n",
              "    <tr>\n",
              "      <th>3</th>\n",
              "      <td>00031cefe68278406ddac7764d46275a56a13558c3bfee...</td>\n",
              "      <td>0</td>\n",
              "      <td>4</td>\n",
              "      <td>li</td>\n",
              "      <td>Join IEEE</td>\n",
              "    </tr>\n",
              "    <tr>\n",
              "      <th>4</th>\n",
              "      <td>00031cefe68278406ddac7764d46275a56a13558c3bfee...</td>\n",
              "      <td>0</td>\n",
              "      <td>5</td>\n",
              "      <td>li</td>\n",
              "      <td>IEEE.org</td>\n",
              "    </tr>\n",
              "    <tr>\n",
              "      <th>...</th>\n",
              "      <td>...</td>\n",
              "      <td>...</td>\n",
              "      <td>...</td>\n",
              "      <td>...</td>\n",
              "      <td>...</td>\n",
              "    </tr>\n",
              "    <tr>\n",
              "      <th>1564177</th>\n",
              "      <td>fffe5eb5158dc707f949370abe44dd3d6ce77f63010156...</td>\n",
              "      <td>1</td>\n",
              "      <td>2</td>\n",
              "      <td>head</td>\n",
              "      <td>LoRaTools</td>\n",
              "    </tr>\n",
              "    <tr>\n",
              "      <th>1564178</th>\n",
              "      <td>fffe5eb5158dc707f949370abe44dd3d6ce77f63010156...</td>\n",
              "      <td>0</td>\n",
              "      <td>3</td>\n",
              "      <td>body</td>\n",
              "      <td>Toggle navigation LoRaTools {{item.name}} var ...</td>\n",
              "    </tr>\n",
              "    <tr>\n",
              "      <th>1564179</th>\n",
              "      <td>fffe5eb5158dc707f949370abe44dd3d6ce77f63010156...</td>\n",
              "      <td>0</td>\n",
              "      <td>4</td>\n",
              "      <td>div</td>\n",
              "      <td>Toggle navigation LoRaTools {{item.name}}</td>\n",
              "    </tr>\n",
              "    <tr>\n",
              "      <th>1564180</th>\n",
              "      <td>fffe5eb5158dc707f949370abe44dd3d6ce77f63010156...</td>\n",
              "      <td>0</td>\n",
              "      <td>5</td>\n",
              "      <td>div</td>\n",
              "      <td>Toggle navigation LoRaTools</td>\n",
              "    </tr>\n",
              "    <tr>\n",
              "      <th>1564181</th>\n",
              "      <td>fffe5eb5158dc707f949370abe44dd3d6ce77f63010156...</td>\n",
              "      <td>0</td>\n",
              "      <td>6</td>\n",
              "      <td>span</td>\n",
              "      <td>Toggle navigation</td>\n",
              "    </tr>\n",
              "  </tbody>\n",
              "</table>\n",
              "<p>1564182 rows × 5 columns</p>\n",
              "</div>"
            ],
            "text/plain": [
              "                                                     fname  ...                                               Text\n",
              "0        00031cefe68278406ddac7764d46275a56a13558c3bfee...  ...                                   Full Page Reload\n",
              "1        00031cefe68278406ddac7764d46275a56a13558c3bfee...  ...  Join IEEE | IEEE.org | IEEE Xplore Digital Lib...\n",
              "2        00031cefe68278406ddac7764d46275a56a13558c3bfee...  ...  Join IEEE | IEEE.org | IEEE Xplore Digital Lib...\n",
              "3        00031cefe68278406ddac7764d46275a56a13558c3bfee...  ...                                          Join IEEE\n",
              "4        00031cefe68278406ddac7764d46275a56a13558c3bfee...  ...                                           IEEE.org\n",
              "...                                                    ...  ...                                                ...\n",
              "1564177  fffe5eb5158dc707f949370abe44dd3d6ce77f63010156...  ...                                          LoRaTools\n",
              "1564178  fffe5eb5158dc707f949370abe44dd3d6ce77f63010156...  ...  Toggle navigation LoRaTools {{item.name}} var ...\n",
              "1564179  fffe5eb5158dc707f949370abe44dd3d6ce77f63010156...  ...          Toggle navigation LoRaTools {{item.name}}\n",
              "1564180  fffe5eb5158dc707f949370abe44dd3d6ce77f63010156...  ...                        Toggle navigation LoRaTools\n",
              "1564181  fffe5eb5158dc707f949370abe44dd3d6ce77f63010156...  ...                                  Toggle navigation\n",
              "\n",
              "[1564182 rows x 5 columns]"
            ]
          },
          "metadata": {
            "tags": []
          },
          "execution_count": 15
        }
      ]
    },
    {
      "cell_type": "code",
      "metadata": {
        "colab": {
          "base_uri": "https://localhost:8080/"
        },
        "id": "Rt2EEHsuDAfZ",
        "outputId": "018bc3dd-ee3d-4060-e235-d395ff447b7e"
      },
      "source": [
        "print(\"After removing tags with special characters\")\n",
        "print(df.shape)\n",
        "print(len(df[df.Author_encoding==0])/len(df[df.Author_encoding==1]))"
      ],
      "execution_count": null,
      "outputs": [
        {
          "output_type": "stream",
          "text": [
            "After removing tags with special characters\n",
            "(1564182, 5)\n",
            "141.2112919356305\n"
          ],
          "name": "stdout"
        }
      ]
    },
    {
      "cell_type": "code",
      "metadata": {
        "colab": {
          "base_uri": "https://localhost:8080/",
          "height": 402
        },
        "id": "4unE6z30TDgI",
        "outputId": "b0da077e-4269-49ec-e00a-0ae97b55cc47"
      },
      "source": [
        "df"
      ],
      "execution_count": null,
      "outputs": [
        {
          "output_type": "execute_result",
          "data": {
            "text/html": [
              "<div>\n",
              "<style scoped>\n",
              "    .dataframe tbody tr th:only-of-type {\n",
              "        vertical-align: middle;\n",
              "    }\n",
              "\n",
              "    .dataframe tbody tr th {\n",
              "        vertical-align: top;\n",
              "    }\n",
              "\n",
              "    .dataframe thead th {\n",
              "        text-align: right;\n",
              "    }\n",
              "</style>\n",
              "<table border=\"1\" class=\"dataframe\">\n",
              "  <thead>\n",
              "    <tr style=\"text-align: right;\">\n",
              "      <th></th>\n",
              "      <th>fname</th>\n",
              "      <th>Author_encoding</th>\n",
              "      <th>SerialNo</th>\n",
              "      <th>Tag</th>\n",
              "      <th>Text</th>\n",
              "    </tr>\n",
              "  </thead>\n",
              "  <tbody>\n",
              "    <tr>\n",
              "      <th>0</th>\n",
              "      <td>00031cefe68278406ddac7764d46275a56a13558c3bfee...</td>\n",
              "      <td>0</td>\n",
              "      <td>1</td>\n",
              "      <td>title</td>\n",
              "      <td>Full Page Reload</td>\n",
              "    </tr>\n",
              "    <tr>\n",
              "      <th>1</th>\n",
              "      <td>00031cefe68278406ddac7764d46275a56a13558c3bfee...</td>\n",
              "      <td>0</td>\n",
              "      <td>2</td>\n",
              "      <td>header</td>\n",
              "      <td>Join IEEE | IEEE.org | IEEE Xplore Digital Lib...</td>\n",
              "    </tr>\n",
              "    <tr>\n",
              "      <th>2</th>\n",
              "      <td>00031cefe68278406ddac7764d46275a56a13558c3bfee...</td>\n",
              "      <td>0</td>\n",
              "      <td>3</td>\n",
              "      <td>ul</td>\n",
              "      <td>Join IEEE | IEEE.org | IEEE Xplore Digital Lib...</td>\n",
              "    </tr>\n",
              "    <tr>\n",
              "      <th>3</th>\n",
              "      <td>00031cefe68278406ddac7764d46275a56a13558c3bfee...</td>\n",
              "      <td>0</td>\n",
              "      <td>4</td>\n",
              "      <td>li</td>\n",
              "      <td>Join IEEE</td>\n",
              "    </tr>\n",
              "    <tr>\n",
              "      <th>4</th>\n",
              "      <td>00031cefe68278406ddac7764d46275a56a13558c3bfee...</td>\n",
              "      <td>0</td>\n",
              "      <td>5</td>\n",
              "      <td>li</td>\n",
              "      <td>IEEE.org</td>\n",
              "    </tr>\n",
              "    <tr>\n",
              "      <th>...</th>\n",
              "      <td>...</td>\n",
              "      <td>...</td>\n",
              "      <td>...</td>\n",
              "      <td>...</td>\n",
              "      <td>...</td>\n",
              "    </tr>\n",
              "    <tr>\n",
              "      <th>1564177</th>\n",
              "      <td>fffe5eb5158dc707f949370abe44dd3d6ce77f63010156...</td>\n",
              "      <td>1</td>\n",
              "      <td>2</td>\n",
              "      <td>head</td>\n",
              "      <td>LoRaTools</td>\n",
              "    </tr>\n",
              "    <tr>\n",
              "      <th>1564178</th>\n",
              "      <td>fffe5eb5158dc707f949370abe44dd3d6ce77f63010156...</td>\n",
              "      <td>0</td>\n",
              "      <td>3</td>\n",
              "      <td>body</td>\n",
              "      <td>Toggle navigation LoRaTools {{item.name}} var ...</td>\n",
              "    </tr>\n",
              "    <tr>\n",
              "      <th>1564179</th>\n",
              "      <td>fffe5eb5158dc707f949370abe44dd3d6ce77f63010156...</td>\n",
              "      <td>0</td>\n",
              "      <td>4</td>\n",
              "      <td>div</td>\n",
              "      <td>Toggle navigation LoRaTools {{item.name}}</td>\n",
              "    </tr>\n",
              "    <tr>\n",
              "      <th>1564180</th>\n",
              "      <td>fffe5eb5158dc707f949370abe44dd3d6ce77f63010156...</td>\n",
              "      <td>0</td>\n",
              "      <td>5</td>\n",
              "      <td>div</td>\n",
              "      <td>Toggle navigation LoRaTools</td>\n",
              "    </tr>\n",
              "    <tr>\n",
              "      <th>1564181</th>\n",
              "      <td>fffe5eb5158dc707f949370abe44dd3d6ce77f63010156...</td>\n",
              "      <td>0</td>\n",
              "      <td>6</td>\n",
              "      <td>span</td>\n",
              "      <td>Toggle navigation</td>\n",
              "    </tr>\n",
              "  </tbody>\n",
              "</table>\n",
              "<p>1564182 rows × 5 columns</p>\n",
              "</div>"
            ],
            "text/plain": [
              "                                                     fname  ...                                               Text\n",
              "0        00031cefe68278406ddac7764d46275a56a13558c3bfee...  ...                                   Full Page Reload\n",
              "1        00031cefe68278406ddac7764d46275a56a13558c3bfee...  ...  Join IEEE | IEEE.org | IEEE Xplore Digital Lib...\n",
              "2        00031cefe68278406ddac7764d46275a56a13558c3bfee...  ...  Join IEEE | IEEE.org | IEEE Xplore Digital Lib...\n",
              "3        00031cefe68278406ddac7764d46275a56a13558c3bfee...  ...                                          Join IEEE\n",
              "4        00031cefe68278406ddac7764d46275a56a13558c3bfee...  ...                                           IEEE.org\n",
              "...                                                    ...  ...                                                ...\n",
              "1564177  fffe5eb5158dc707f949370abe44dd3d6ce77f63010156...  ...                                          LoRaTools\n",
              "1564178  fffe5eb5158dc707f949370abe44dd3d6ce77f63010156...  ...  Toggle navigation LoRaTools {{item.name}} var ...\n",
              "1564179  fffe5eb5158dc707f949370abe44dd3d6ce77f63010156...  ...          Toggle navigation LoRaTools {{item.name}}\n",
              "1564180  fffe5eb5158dc707f949370abe44dd3d6ce77f63010156...  ...                        Toggle navigation LoRaTools\n",
              "1564181  fffe5eb5158dc707f949370abe44dd3d6ce77f63010156...  ...                                  Toggle navigation\n",
              "\n",
              "[1564182 rows x 5 columns]"
            ]
          },
          "metadata": {
            "tags": []
          },
          "execution_count": 17
        }
      ]
    },
    {
      "cell_type": "code",
      "metadata": {
        "id": "LwHVlAfKVI-P"
      },
      "source": [
        "from sklearn.preprocessing import OneHotEncoder\n",
        "\n",
        "OHE=OneHotEncoder(handle_unknown='ignore',sparse=False)"
      ],
      "execution_count": null,
      "outputs": []
    },
    {
      "cell_type": "code",
      "metadata": {
        "colab": {
          "base_uri": "https://localhost:8080/"
        },
        "id": "-cDN1VdNVUBZ",
        "outputId": "c796a726-f599-40ca-9e0f-c0aa642b7525"
      },
      "source": [
        "OHE.fit(np.array(df['Tag']).reshape(-1,1))"
      ],
      "execution_count": null,
      "outputs": [
        {
          "output_type": "execute_result",
          "data": {
            "text/plain": [
              "OneHotEncoder(categories='auto', drop=None, dtype=<class 'numpy.float64'>,\n",
              "              handle_unknown='ignore', sparse=False)"
            ]
          },
          "metadata": {
            "tags": []
          },
          "execution_count": 19
        }
      ]
    },
    {
      "cell_type": "code",
      "metadata": {
        "id": "2iueHB92SpCE"
      },
      "source": [
        "df_author_diagnostics_subset= df_author_diagnostics.sample(n=584)"
      ],
      "execution_count": null,
      "outputs": []
    },
    {
      "cell_type": "code",
      "metadata": {
        "colab": {
          "base_uri": "https://localhost:8080/",
          "height": 402
        },
        "id": "7IXaaC_pTBqS",
        "outputId": "0b0467eb-3614-4236-8f89-a10306b029c5"
      },
      "source": [
        "df_author_diagnostics_subset"
      ],
      "execution_count": null,
      "outputs": [
        {
          "output_type": "execute_result",
          "data": {
            "text/html": [
              "<div>\n",
              "<style scoped>\n",
              "    .dataframe tbody tr th:only-of-type {\n",
              "        vertical-align: middle;\n",
              "    }\n",
              "\n",
              "    .dataframe tbody tr th {\n",
              "        vertical-align: top;\n",
              "    }\n",
              "\n",
              "    .dataframe thead th {\n",
              "        text-align: right;\n",
              "    }\n",
              "</style>\n",
              "<table border=\"1\" class=\"dataframe\">\n",
              "  <thead>\n",
              "    <tr style=\"text-align: right;\">\n",
              "      <th></th>\n",
              "      <th>Fname</th>\n",
              "      <th>Distinct_authors_count</th>\n",
              "      <th>Authors</th>\n",
              "    </tr>\n",
              "  </thead>\n",
              "  <tbody>\n",
              "    <tr>\n",
              "      <th>3873</th>\n",
              "      <td>547c044c791a4496fb074b3e0131401449c53d8a8d02b7...</td>\n",
              "      <td>1</td>\n",
              "      <td>Weaver, Rick</td>\n",
              "    </tr>\n",
              "    <tr>\n",
              "      <th>1315</th>\n",
              "      <td>096d22c3822ea17523e7e003e38029ebf112b20927d759...</td>\n",
              "      <td>0</td>\n",
              "      <td>NewGenApps</td>\n",
              "    </tr>\n",
              "    <tr>\n",
              "      <th>2781</th>\n",
              "      <td>f23762c87425b1b67cb4181096c2177133fd1b9bd2b58a...</td>\n",
              "      <td>1</td>\n",
              "      <td>Coyier, Chris</td>\n",
              "    </tr>\n",
              "    <tr>\n",
              "      <th>5039</th>\n",
              "      <td>6403f2ebed03dd3d470008e28fc398c6743c4e55851fb6...</td>\n",
              "      <td>1</td>\n",
              "      <td>Cipher</td>\n",
              "    </tr>\n",
              "    <tr>\n",
              "      <th>6109</th>\n",
              "      <td>2dde85d33ee9ea9cd654885dbb6429527fb1f2b9d33a37...</td>\n",
              "      <td>3</td>\n",
              "      <td>Zhao, Shubin, and Ralph Grishman</td>\n",
              "    </tr>\n",
              "    <tr>\n",
              "      <th>...</th>\n",
              "      <td>...</td>\n",
              "      <td>...</td>\n",
              "      <td>...</td>\n",
              "    </tr>\n",
              "    <tr>\n",
              "      <th>3288</th>\n",
              "      <td>c1567aab29e70f7ee967496c892bca0ad7b74aabcbee11...</td>\n",
              "      <td>1</td>\n",
              "      <td>Mhetre, Abhijit</td>\n",
              "    </tr>\n",
              "    <tr>\n",
              "      <th>1664</th>\n",
              "      <td>75016659f439a357c5e7290d6432bad0ee427ed1242a16...</td>\n",
              "      <td>0</td>\n",
              "      <td>DataFlair</td>\n",
              "    </tr>\n",
              "    <tr>\n",
              "      <th>2259</th>\n",
              "      <td>e442e5245fd753c60600b79a8f81cebaaaf338dfdc5bfb...</td>\n",
              "      <td>1</td>\n",
              "      <td>Florance, Ken</td>\n",
              "    </tr>\n",
              "    <tr>\n",
              "      <th>763</th>\n",
              "      <td>bfed48be63141f8f25e89f9c0dc435031b981de164d52e...</td>\n",
              "      <td>0</td>\n",
              "      <td>Prokop, Andrew</td>\n",
              "    </tr>\n",
              "    <tr>\n",
              "      <th>1535</th>\n",
              "      <td>dc8ef4e9fc966fcbf6962c405c86298feb30f4244048e3...</td>\n",
              "      <td>0</td>\n",
              "      <td>Jurafsky, Daniel and James H Martin</td>\n",
              "    </tr>\n",
              "  </tbody>\n",
              "</table>\n",
              "<p>584 rows × 3 columns</p>\n",
              "</div>"
            ],
            "text/plain": [
              "                                                  Fname  ...                              Authors\n",
              "3873  547c044c791a4496fb074b3e0131401449c53d8a8d02b7...  ...                         Weaver, Rick\n",
              "1315  096d22c3822ea17523e7e003e38029ebf112b20927d759...  ...                           NewGenApps\n",
              "2781  f23762c87425b1b67cb4181096c2177133fd1b9bd2b58a...  ...                        Coyier, Chris\n",
              "5039  6403f2ebed03dd3d470008e28fc398c6743c4e55851fb6...  ...                               Cipher\n",
              "6109  2dde85d33ee9ea9cd654885dbb6429527fb1f2b9d33a37...  ...     Zhao, Shubin, and Ralph Grishman\n",
              "...                                                 ...  ...                                  ...\n",
              "3288  c1567aab29e70f7ee967496c892bca0ad7b74aabcbee11...  ...                      Mhetre, Abhijit\n",
              "1664  75016659f439a357c5e7290d6432bad0ee427ed1242a16...  ...                            DataFlair\n",
              "2259  e442e5245fd753c60600b79a8f81cebaaaf338dfdc5bfb...  ...                        Florance, Ken\n",
              "763   bfed48be63141f8f25e89f9c0dc435031b981de164d52e...  ...                       Prokop, Andrew\n",
              "1535  dc8ef4e9fc966fcbf6962c405c86298feb30f4244048e3...  ...  Jurafsky, Daniel and James H Martin\n",
              "\n",
              "[584 rows x 3 columns]"
            ]
          },
          "metadata": {
            "tags": []
          },
          "execution_count": 21
        }
      ]
    },
    {
      "cell_type": "code",
      "metadata": {
        "id": "_7L_pvnxUCbm"
      },
      "source": [
        "test_fnames=list(df_author_diagnostics_subset.Fname)"
      ],
      "execution_count": null,
      "outputs": []
    },
    {
      "cell_type": "code",
      "metadata": {
        "colab": {
          "base_uri": "https://localhost:8080/"
        },
        "id": "aSUiTOeqTpkA",
        "outputId": "4ec319a0-5b49-4f26-dc90-56a797915499"
      },
      "source": [
        "df_test= df[df.fname.isin(test_fnames)]\n",
        "df_test.reset_index(inplace=True)\n",
        "df_test.drop('index',axis=1,inplace=True)\n",
        "\n",
        "df_train=df[~df.fname.isin(test_fnames)]\n",
        "df_train.reset_index(inplace=True)\n",
        "df_train.drop('index',axis=1,inplace=True)"
      ],
      "execution_count": null,
      "outputs": [
        {
          "output_type": "stream",
          "text": [
            "/usr/local/lib/python3.7/dist-packages/pandas/core/frame.py:4174: SettingWithCopyWarning: \n",
            "A value is trying to be set on a copy of a slice from a DataFrame\n",
            "\n",
            "See the caveats in the documentation: https://pandas.pydata.org/pandas-docs/stable/user_guide/indexing.html#returning-a-view-versus-a-copy\n",
            "  errors=errors,\n"
          ],
          "name": "stderr"
        }
      ]
    },
    {
      "cell_type": "code",
      "metadata": {
        "colab": {
          "base_uri": "https://localhost:8080/"
        },
        "id": "uAQ0UqV_VH76",
        "outputId": "75e18192-d158-4547-d8a7-8efc5093102b"
      },
      "source": [
        "print(\"Train Dataset\")\n",
        "print(df_train.shape)\n",
        "print(\"No of 0s: \",len(df_train[df_train.Author_encoding==0]))\n",
        "print(\"No of 1s: \",len(df_train[df_train.Author_encoding==1]))\n",
        "print(\"0:1 ratio:\",len(df_train[df_train.Author_encoding==0])/len(df_train[df_train.Author_encoding==1]))\n",
        "print(\"-\"*50)\n",
        "print(\"Test Dataset\")\n",
        "print(df_test.shape)\n",
        "print(\"No of 0s: \",len(df_test[df_test.Author_encoding==0]))\n",
        "print(\"No of 1s: \",len(df_test[df_test.Author_encoding==1]))\n",
        "print(\"0:1 ratio:\",len(df_test[df_test.Author_encoding==0])/len(df_test[df_test.Author_encoding==1]))"
      ],
      "execution_count": null,
      "outputs": [
        {
          "output_type": "stream",
          "text": [
            "Train Dataset\n",
            "(1432760, 5)\n",
            "No of 0s:  1422726\n",
            "No of 1s:  10034\n",
            "0:1 ratio: 141.7905122583217\n",
            "--------------------------------------------------\n",
            "Test Dataset\n",
            "(131422, 5)\n",
            "No of 0s:  130457\n",
            "No of 1s:  965\n",
            "0:1 ratio: 135.18860103626943\n"
          ],
          "name": "stdout"
        }
      ]
    },
    {
      "cell_type": "code",
      "metadata": {
        "colab": {
          "base_uri": "https://localhost:8080/",
          "height": 402
        },
        "id": "PUUBbl2OUckn",
        "outputId": "9340ba56-4837-47a0-ff76-a077749d5a1b"
      },
      "source": [
        "df_test"
      ],
      "execution_count": null,
      "outputs": [
        {
          "output_type": "execute_result",
          "data": {
            "text/html": [
              "<div>\n",
              "<style scoped>\n",
              "    .dataframe tbody tr th:only-of-type {\n",
              "        vertical-align: middle;\n",
              "    }\n",
              "\n",
              "    .dataframe tbody tr th {\n",
              "        vertical-align: top;\n",
              "    }\n",
              "\n",
              "    .dataframe thead th {\n",
              "        text-align: right;\n",
              "    }\n",
              "</style>\n",
              "<table border=\"1\" class=\"dataframe\">\n",
              "  <thead>\n",
              "    <tr style=\"text-align: right;\">\n",
              "      <th></th>\n",
              "      <th>fname</th>\n",
              "      <th>Author_encoding</th>\n",
              "      <th>SerialNo</th>\n",
              "      <th>Tag</th>\n",
              "      <th>Text</th>\n",
              "    </tr>\n",
              "  </thead>\n",
              "  <tbody>\n",
              "    <tr>\n",
              "      <th>0</th>\n",
              "      <td>001a52277fbca48c983f0b66e3af702facd66153a4fcb2...</td>\n",
              "      <td>0</td>\n",
              "      <td>1</td>\n",
              "      <td>title</td>\n",
              "      <td>Beam Mobile Gaming Example</td>\n",
              "    </tr>\n",
              "    <tr>\n",
              "      <th>1</th>\n",
              "      <td>001a52277fbca48c983f0b66e3af702facd66153a4fcb2...</td>\n",
              "      <td>0</td>\n",
              "      <td>2</td>\n",
              "      <td>div</td>\n",
              "      <td>Get Started Documentation Toggle navigation</td>\n",
              "    </tr>\n",
              "    <tr>\n",
              "      <th>2</th>\n",
              "      <td>001a52277fbca48c983f0b66e3af702facd66153a4fcb2...</td>\n",
              "      <td>0</td>\n",
              "      <td>3</td>\n",
              "      <td>a</td>\n",
              "      <td>Get Started</td>\n",
              "    </tr>\n",
              "    <tr>\n",
              "      <th>3</th>\n",
              "      <td>001a52277fbca48c983f0b66e3af702facd66153a4fcb2...</td>\n",
              "      <td>0</td>\n",
              "      <td>4</td>\n",
              "      <td>a</td>\n",
              "      <td>Documentation</td>\n",
              "    </tr>\n",
              "    <tr>\n",
              "      <th>4</th>\n",
              "      <td>001a52277fbca48c983f0b66e3af702facd66153a4fcb2...</td>\n",
              "      <td>0</td>\n",
              "      <td>5</td>\n",
              "      <td>span</td>\n",
              "      <td>Toggle navigation</td>\n",
              "    </tr>\n",
              "    <tr>\n",
              "      <th>...</th>\n",
              "      <td>...</td>\n",
              "      <td>...</td>\n",
              "      <td>...</td>\n",
              "      <td>...</td>\n",
              "      <td>...</td>\n",
              "    </tr>\n",
              "    <tr>\n",
              "      <th>131417</th>\n",
              "      <td>ff29095c6ac32ac293c15aed92fa7542099b20eb9edac4...</td>\n",
              "      <td>0</td>\n",
              "      <td>146</td>\n",
              "      <td>li</td>\n",
              "      <td>Nondiscrimination Policy</td>\n",
              "    </tr>\n",
              "    <tr>\n",
              "      <th>131418</th>\n",
              "      <td>ff29095c6ac32ac293c15aed92fa7542099b20eb9edac4...</td>\n",
              "      <td>0</td>\n",
              "      <td>147</td>\n",
              "      <td>li</td>\n",
              "      <td>IEEE Privacy Policy</td>\n",
              "    </tr>\n",
              "    <tr>\n",
              "      <th>131419</th>\n",
              "      <td>ff29095c6ac32ac293c15aed92fa7542099b20eb9edac4...</td>\n",
              "      <td>1</td>\n",
              "      <td>148</td>\n",
              "      <td>li</td>\n",
              "      <td>IEEE SA Copyright Policy</td>\n",
              "    </tr>\n",
              "    <tr>\n",
              "      <th>131420</th>\n",
              "      <td>ff29095c6ac32ac293c15aed92fa7542099b20eb9edac4...</td>\n",
              "      <td>0</td>\n",
              "      <td>149</td>\n",
              "      <td>a</td>\n",
              "      <td>IEEE Terms and Conditions</td>\n",
              "    </tr>\n",
              "    <tr>\n",
              "      <th>131421</th>\n",
              "      <td>ff29095c6ac32ac293c15aed92fa7542099b20eb9edac4...</td>\n",
              "      <td>0</td>\n",
              "      <td>150</td>\n",
              "      <td>div</td>\n",
              "      <td>window.addEventListener(\"load\", function(){ wi...</td>\n",
              "    </tr>\n",
              "  </tbody>\n",
              "</table>\n",
              "<p>131422 rows × 5 columns</p>\n",
              "</div>"
            ],
            "text/plain": [
              "                                                    fname  ...                                               Text\n",
              "0       001a52277fbca48c983f0b66e3af702facd66153a4fcb2...  ...                         Beam Mobile Gaming Example\n",
              "1       001a52277fbca48c983f0b66e3af702facd66153a4fcb2...  ...        Get Started Documentation Toggle navigation\n",
              "2       001a52277fbca48c983f0b66e3af702facd66153a4fcb2...  ...                                        Get Started\n",
              "3       001a52277fbca48c983f0b66e3af702facd66153a4fcb2...  ...                                      Documentation\n",
              "4       001a52277fbca48c983f0b66e3af702facd66153a4fcb2...  ...                                  Toggle navigation\n",
              "...                                                   ...  ...                                                ...\n",
              "131417  ff29095c6ac32ac293c15aed92fa7542099b20eb9edac4...  ...                           Nondiscrimination Policy\n",
              "131418  ff29095c6ac32ac293c15aed92fa7542099b20eb9edac4...  ...                                IEEE Privacy Policy\n",
              "131419  ff29095c6ac32ac293c15aed92fa7542099b20eb9edac4...  ...                           IEEE SA Copyright Policy\n",
              "131420  ff29095c6ac32ac293c15aed92fa7542099b20eb9edac4...  ...                          IEEE Terms and Conditions\n",
              "131421  ff29095c6ac32ac293c15aed92fa7542099b20eb9edac4...  ...  window.addEventListener(\"load\", function(){ wi...\n",
              "\n",
              "[131422 rows x 5 columns]"
            ]
          },
          "metadata": {
            "tags": []
          },
          "execution_count": 25
        }
      ]
    },
    {
      "cell_type": "code",
      "metadata": {
        "colab": {
          "base_uri": "https://localhost:8080/",
          "height": 402
        },
        "id": "BacXX_IoUjWd",
        "outputId": "c731fdb3-cfd4-4964-95b8-f52924698b34"
      },
      "source": [
        "df_train"
      ],
      "execution_count": null,
      "outputs": [
        {
          "output_type": "execute_result",
          "data": {
            "text/html": [
              "<div>\n",
              "<style scoped>\n",
              "    .dataframe tbody tr th:only-of-type {\n",
              "        vertical-align: middle;\n",
              "    }\n",
              "\n",
              "    .dataframe tbody tr th {\n",
              "        vertical-align: top;\n",
              "    }\n",
              "\n",
              "    .dataframe thead th {\n",
              "        text-align: right;\n",
              "    }\n",
              "</style>\n",
              "<table border=\"1\" class=\"dataframe\">\n",
              "  <thead>\n",
              "    <tr style=\"text-align: right;\">\n",
              "      <th></th>\n",
              "      <th>fname</th>\n",
              "      <th>Author_encoding</th>\n",
              "      <th>SerialNo</th>\n",
              "      <th>Tag</th>\n",
              "      <th>Text</th>\n",
              "    </tr>\n",
              "  </thead>\n",
              "  <tbody>\n",
              "    <tr>\n",
              "      <th>0</th>\n",
              "      <td>00031cefe68278406ddac7764d46275a56a13558c3bfee...</td>\n",
              "      <td>0</td>\n",
              "      <td>1</td>\n",
              "      <td>title</td>\n",
              "      <td>Full Page Reload</td>\n",
              "    </tr>\n",
              "    <tr>\n",
              "      <th>1</th>\n",
              "      <td>00031cefe68278406ddac7764d46275a56a13558c3bfee...</td>\n",
              "      <td>0</td>\n",
              "      <td>2</td>\n",
              "      <td>header</td>\n",
              "      <td>Join IEEE | IEEE.org | IEEE Xplore Digital Lib...</td>\n",
              "    </tr>\n",
              "    <tr>\n",
              "      <th>2</th>\n",
              "      <td>00031cefe68278406ddac7764d46275a56a13558c3bfee...</td>\n",
              "      <td>0</td>\n",
              "      <td>3</td>\n",
              "      <td>ul</td>\n",
              "      <td>Join IEEE | IEEE.org | IEEE Xplore Digital Lib...</td>\n",
              "    </tr>\n",
              "    <tr>\n",
              "      <th>3</th>\n",
              "      <td>00031cefe68278406ddac7764d46275a56a13558c3bfee...</td>\n",
              "      <td>0</td>\n",
              "      <td>4</td>\n",
              "      <td>li</td>\n",
              "      <td>Join IEEE</td>\n",
              "    </tr>\n",
              "    <tr>\n",
              "      <th>4</th>\n",
              "      <td>00031cefe68278406ddac7764d46275a56a13558c3bfee...</td>\n",
              "      <td>0</td>\n",
              "      <td>5</td>\n",
              "      <td>li</td>\n",
              "      <td>IEEE.org</td>\n",
              "    </tr>\n",
              "    <tr>\n",
              "      <th>...</th>\n",
              "      <td>...</td>\n",
              "      <td>...</td>\n",
              "      <td>...</td>\n",
              "      <td>...</td>\n",
              "      <td>...</td>\n",
              "    </tr>\n",
              "    <tr>\n",
              "      <th>1432755</th>\n",
              "      <td>fffe5eb5158dc707f949370abe44dd3d6ce77f63010156...</td>\n",
              "      <td>1</td>\n",
              "      <td>2</td>\n",
              "      <td>head</td>\n",
              "      <td>LoRaTools</td>\n",
              "    </tr>\n",
              "    <tr>\n",
              "      <th>1432756</th>\n",
              "      <td>fffe5eb5158dc707f949370abe44dd3d6ce77f63010156...</td>\n",
              "      <td>0</td>\n",
              "      <td>3</td>\n",
              "      <td>body</td>\n",
              "      <td>Toggle navigation LoRaTools {{item.name}} var ...</td>\n",
              "    </tr>\n",
              "    <tr>\n",
              "      <th>1432757</th>\n",
              "      <td>fffe5eb5158dc707f949370abe44dd3d6ce77f63010156...</td>\n",
              "      <td>0</td>\n",
              "      <td>4</td>\n",
              "      <td>div</td>\n",
              "      <td>Toggle navigation LoRaTools {{item.name}}</td>\n",
              "    </tr>\n",
              "    <tr>\n",
              "      <th>1432758</th>\n",
              "      <td>fffe5eb5158dc707f949370abe44dd3d6ce77f63010156...</td>\n",
              "      <td>0</td>\n",
              "      <td>5</td>\n",
              "      <td>div</td>\n",
              "      <td>Toggle navigation LoRaTools</td>\n",
              "    </tr>\n",
              "    <tr>\n",
              "      <th>1432759</th>\n",
              "      <td>fffe5eb5158dc707f949370abe44dd3d6ce77f63010156...</td>\n",
              "      <td>0</td>\n",
              "      <td>6</td>\n",
              "      <td>span</td>\n",
              "      <td>Toggle navigation</td>\n",
              "    </tr>\n",
              "  </tbody>\n",
              "</table>\n",
              "<p>1432760 rows × 5 columns</p>\n",
              "</div>"
            ],
            "text/plain": [
              "                                                     fname  ...                                               Text\n",
              "0        00031cefe68278406ddac7764d46275a56a13558c3bfee...  ...                                   Full Page Reload\n",
              "1        00031cefe68278406ddac7764d46275a56a13558c3bfee...  ...  Join IEEE | IEEE.org | IEEE Xplore Digital Lib...\n",
              "2        00031cefe68278406ddac7764d46275a56a13558c3bfee...  ...  Join IEEE | IEEE.org | IEEE Xplore Digital Lib...\n",
              "3        00031cefe68278406ddac7764d46275a56a13558c3bfee...  ...                                          Join IEEE\n",
              "4        00031cefe68278406ddac7764d46275a56a13558c3bfee...  ...                                           IEEE.org\n",
              "...                                                    ...  ...                                                ...\n",
              "1432755  fffe5eb5158dc707f949370abe44dd3d6ce77f63010156...  ...                                          LoRaTools\n",
              "1432756  fffe5eb5158dc707f949370abe44dd3d6ce77f63010156...  ...  Toggle navigation LoRaTools {{item.name}} var ...\n",
              "1432757  fffe5eb5158dc707f949370abe44dd3d6ce77f63010156...  ...          Toggle navigation LoRaTools {{item.name}}\n",
              "1432758  fffe5eb5158dc707f949370abe44dd3d6ce77f63010156...  ...                        Toggle navigation LoRaTools\n",
              "1432759  fffe5eb5158dc707f949370abe44dd3d6ce77f63010156...  ...                                  Toggle navigation\n",
              "\n",
              "[1432760 rows x 5 columns]"
            ]
          },
          "metadata": {
            "tags": []
          },
          "execution_count": 26
        }
      ]
    },
    {
      "cell_type": "code",
      "metadata": {
        "colab": {
          "base_uri": "https://localhost:8080/"
        },
        "id": "EKM3dflkVDqx",
        "outputId": "08dc9102-aba2-4e18-96dc-327d6fc29f25"
      },
      "source": [
        "caps=[]\n",
        "first_token_upper=[]\n",
        "comma_percent=[]\n",
        "no_of_tokens=[]\n",
        "\n",
        "\n",
        "for i in tqdm(df_train.iterrows()):\n",
        "    text=str(i[1].Text)\n",
        "    no_toks = len(re.findall(r'\\w+', text))\n",
        "\n",
        "    x=len(re.findall(r'[A-Z]',text))\n",
        "    caps.append(x)\n",
        "\n",
        "    no_of_tokens.append(no_toks)\n",
        "    \n",
        "    try:\n",
        "      comma_percent.append(text.count(',')/no_toks)\n",
        "    except:\n",
        "      comma_percent.append(0)\n",
        "    \n",
        "    if text.split()[0].isupper():\n",
        "        first_token_upper.append(1)\n",
        "    else:\n",
        "        first_token_upper.append(0)\n",
        "    "
      ],
      "execution_count": null,
      "outputs": [
        {
          "output_type": "stream",
          "text": [
            "1432760it [02:37, 9098.79it/s]\n"
          ],
          "name": "stderr"
        }
      ]
    },
    {
      "cell_type": "code",
      "metadata": {
        "colab": {
          "base_uri": "https://localhost:8080/"
        },
        "id": "rgx8q2laWlc5",
        "outputId": "a197c9ed-04a3-4696-95ac-58295cbb50f5"
      },
      "source": [
        "df_train['caps_count']=np.array(caps)\n",
        "df_train['first_token_upper']=np.array(first_token_upper)\n",
        "df_train['comma_percent']=np.array(comma_percent)\n",
        "df_train['No_of_tokens']=np.array(no_of_tokens)"
      ],
      "execution_count": null,
      "outputs": [
        {
          "output_type": "stream",
          "text": [
            "/usr/local/lib/python3.7/dist-packages/ipykernel_launcher.py:1: SettingWithCopyWarning: \n",
            "A value is trying to be set on a copy of a slice from a DataFrame.\n",
            "Try using .loc[row_indexer,col_indexer] = value instead\n",
            "\n",
            "See the caveats in the documentation: https://pandas.pydata.org/pandas-docs/stable/user_guide/indexing.html#returning-a-view-versus-a-copy\n",
            "  \"\"\"Entry point for launching an IPython kernel.\n",
            "/usr/local/lib/python3.7/dist-packages/ipykernel_launcher.py:2: SettingWithCopyWarning: \n",
            "A value is trying to be set on a copy of a slice from a DataFrame.\n",
            "Try using .loc[row_indexer,col_indexer] = value instead\n",
            "\n",
            "See the caveats in the documentation: https://pandas.pydata.org/pandas-docs/stable/user_guide/indexing.html#returning-a-view-versus-a-copy\n",
            "  \n",
            "/usr/local/lib/python3.7/dist-packages/ipykernel_launcher.py:3: SettingWithCopyWarning: \n",
            "A value is trying to be set on a copy of a slice from a DataFrame.\n",
            "Try using .loc[row_indexer,col_indexer] = value instead\n",
            "\n",
            "See the caveats in the documentation: https://pandas.pydata.org/pandas-docs/stable/user_guide/indexing.html#returning-a-view-versus-a-copy\n",
            "  This is separate from the ipykernel package so we can avoid doing imports until\n",
            "/usr/local/lib/python3.7/dist-packages/ipykernel_launcher.py:4: SettingWithCopyWarning: \n",
            "A value is trying to be set on a copy of a slice from a DataFrame.\n",
            "Try using .loc[row_indexer,col_indexer] = value instead\n",
            "\n",
            "See the caveats in the documentation: https://pandas.pydata.org/pandas-docs/stable/user_guide/indexing.html#returning-a-view-versus-a-copy\n",
            "  after removing the cwd from sys.path.\n"
          ],
          "name": "stderr"
        }
      ]
    },
    {
      "cell_type": "code",
      "metadata": {
        "colab": {
          "base_uri": "https://localhost:8080/"
        },
        "id": "RFKfiMO_Wqdu",
        "outputId": "0e8ed657-9c39-4049-f675-da8ee4aa17f9"
      },
      "source": [
        "caps=[]\n",
        "first_token_upper=[]\n",
        "comma_percent=[]\n",
        "no_of_tokens=[]\n",
        "\n",
        "\n",
        "for i in tqdm(df_test.iterrows()):\n",
        "    text=str(i[1].Text)\n",
        "    no_toks = len(re.findall(r'\\w+', text))\n",
        "\n",
        "    x=len(re.findall(r'[A-Z]',text))\n",
        "    caps.append(x)\n",
        "\n",
        "    no_of_tokens.append(no_toks)\n",
        "    \n",
        "    try:\n",
        "      comma_percent.append(text.count(',')/no_toks)\n",
        "    except:\n",
        "      comma_percent.append(0)\n",
        "    \n",
        "    if text.split()[0].isupper():\n",
        "        first_token_upper.append(1)\n",
        "    else:\n",
        "        first_token_upper.append(0)\n",
        "    "
      ],
      "execution_count": null,
      "outputs": [
        {
          "output_type": "stream",
          "text": [
            "131422it [00:14, 9179.61it/s]\n"
          ],
          "name": "stderr"
        }
      ]
    },
    {
      "cell_type": "code",
      "metadata": {
        "colab": {
          "base_uri": "https://localhost:8080/"
        },
        "id": "sC1ksW0Yayxb",
        "outputId": "12ea9ac8-7d47-475b-b4b8-b9ce49a17478"
      },
      "source": [
        "len(no_of_tokens)"
      ],
      "execution_count": null,
      "outputs": [
        {
          "output_type": "execute_result",
          "data": {
            "text/plain": [
              "131422"
            ]
          },
          "metadata": {
            "tags": []
          },
          "execution_count": 30
        }
      ]
    },
    {
      "cell_type": "code",
      "metadata": {
        "colab": {
          "base_uri": "https://localhost:8080/"
        },
        "id": "xwUKC7HRWyNQ",
        "outputId": "7615c886-b93c-4baa-9991-6c3a22aa49ab"
      },
      "source": [
        "df_test['caps_count']=np.array(caps)\n",
        "df_test['first_token_upper']=np.array(first_token_upper)\n",
        "df_test['comma_percent']=np.array(comma_percent)\n",
        "df_test['No_of_tokens']=np.array(no_of_tokens)"
      ],
      "execution_count": null,
      "outputs": [
        {
          "output_type": "stream",
          "text": [
            "/usr/local/lib/python3.7/dist-packages/ipykernel_launcher.py:1: SettingWithCopyWarning: \n",
            "A value is trying to be set on a copy of a slice from a DataFrame.\n",
            "Try using .loc[row_indexer,col_indexer] = value instead\n",
            "\n",
            "See the caveats in the documentation: https://pandas.pydata.org/pandas-docs/stable/user_guide/indexing.html#returning-a-view-versus-a-copy\n",
            "  \"\"\"Entry point for launching an IPython kernel.\n",
            "/usr/local/lib/python3.7/dist-packages/ipykernel_launcher.py:2: SettingWithCopyWarning: \n",
            "A value is trying to be set on a copy of a slice from a DataFrame.\n",
            "Try using .loc[row_indexer,col_indexer] = value instead\n",
            "\n",
            "See the caveats in the documentation: https://pandas.pydata.org/pandas-docs/stable/user_guide/indexing.html#returning-a-view-versus-a-copy\n",
            "  \n",
            "/usr/local/lib/python3.7/dist-packages/ipykernel_launcher.py:3: SettingWithCopyWarning: \n",
            "A value is trying to be set on a copy of a slice from a DataFrame.\n",
            "Try using .loc[row_indexer,col_indexer] = value instead\n",
            "\n",
            "See the caveats in the documentation: https://pandas.pydata.org/pandas-docs/stable/user_guide/indexing.html#returning-a-view-versus-a-copy\n",
            "  This is separate from the ipykernel package so we can avoid doing imports until\n",
            "/usr/local/lib/python3.7/dist-packages/ipykernel_launcher.py:4: SettingWithCopyWarning: \n",
            "A value is trying to be set on a copy of a slice from a DataFrame.\n",
            "Try using .loc[row_indexer,col_indexer] = value instead\n",
            "\n",
            "See the caveats in the documentation: https://pandas.pydata.org/pandas-docs/stable/user_guide/indexing.html#returning-a-view-versus-a-copy\n",
            "  after removing the cwd from sys.path.\n"
          ],
          "name": "stderr"
        }
      ]
    },
    {
      "cell_type": "code",
      "metadata": {
        "colab": {
          "base_uri": "https://localhost:8080/"
        },
        "id": "iHR8HsM-W4M4",
        "outputId": "09cafbd3-168c-4faf-ffb5-c8861edcc712"
      },
      "source": [
        "print(df_train.info())\n",
        "print(df_test.info())"
      ],
      "execution_count": null,
      "outputs": [
        {
          "output_type": "stream",
          "text": [
            "<class 'pandas.core.frame.DataFrame'>\n",
            "RangeIndex: 1432760 entries, 0 to 1432759\n",
            "Data columns (total 9 columns):\n",
            " #   Column             Non-Null Count    Dtype  \n",
            "---  ------             --------------    -----  \n",
            " 0   fname              1432760 non-null  object \n",
            " 1   Author_encoding    1432760 non-null  int64  \n",
            " 2   SerialNo           1432760 non-null  int64  \n",
            " 3   Tag                1432760 non-null  object \n",
            " 4   Text               1432594 non-null  object \n",
            " 5   caps_count         1432760 non-null  int64  \n",
            " 6   first_token_upper  1432760 non-null  int64  \n",
            " 7   comma_percent      1432760 non-null  float64\n",
            " 8   No_of_tokens       1432760 non-null  int64  \n",
            "dtypes: float64(1), int64(5), object(3)\n",
            "memory usage: 98.4+ MB\n",
            "None\n",
            "<class 'pandas.core.frame.DataFrame'>\n",
            "RangeIndex: 131422 entries, 0 to 131421\n",
            "Data columns (total 9 columns):\n",
            " #   Column             Non-Null Count   Dtype  \n",
            "---  ------             --------------   -----  \n",
            " 0   fname              131422 non-null  object \n",
            " 1   Author_encoding    131422 non-null  int64  \n",
            " 2   SerialNo           131422 non-null  int64  \n",
            " 3   Tag                131422 non-null  object \n",
            " 4   Text               131409 non-null  object \n",
            " 5   caps_count         131422 non-null  int64  \n",
            " 6   first_token_upper  131422 non-null  int64  \n",
            " 7   comma_percent      131422 non-null  float64\n",
            " 8   No_of_tokens       131422 non-null  int64  \n",
            "dtypes: float64(1), int64(5), object(3)\n",
            "memory usage: 9.0+ MB\n",
            "None\n"
          ],
          "name": "stdout"
        }
      ]
    },
    {
      "cell_type": "code",
      "metadata": {
        "colab": {
          "base_uri": "https://localhost:8080/"
        },
        "id": "D4v5exE8XE03",
        "outputId": "ab4dff41-9319-4e62-c288-da5675c1b9b6"
      },
      "source": [
        "print(\"Train Dataset\")\n",
        "print(df_train.shape)\n",
        "print(\"No of 0s: \",len(df_train[df_train.Author_encoding==0]))\n",
        "print(\"No of 1s: \",len(df_train[df_train.Author_encoding==1]))\n",
        "print(\"0:1 ratio:\",len(df_train[df_train.Author_encoding==0])/len(df_train[df_train.Author_encoding==1]))\n",
        "print(\"-\"*50)\n",
        "print(\"Test Dataset\")\n",
        "print(df_test.shape)\n",
        "print(\"No of 0s: \",len(df_test[df_test.Author_encoding==0]))\n",
        "print(\"No of 1s: \",len(df_test[df_test.Author_encoding==1]))\n",
        "print(\"0:1 ratio:\",len(df_test[df_test.Author_encoding==0])/len(df_test[df_test.Author_encoding==1]))"
      ],
      "execution_count": null,
      "outputs": [
        {
          "output_type": "stream",
          "text": [
            "Train Dataset\n",
            "(1432760, 9)\n",
            "No of 0s:  1422726\n",
            "No of 1s:  10034\n",
            "0:1 ratio: 141.7905122583217\n",
            "--------------------------------------------------\n",
            "Test Dataset\n",
            "(131422, 9)\n",
            "No of 0s:  130457\n",
            "No of 1s:  965\n",
            "0:1 ratio: 135.18860103626943\n"
          ],
          "name": "stdout"
        }
      ]
    },
    {
      "cell_type": "code",
      "metadata": {
        "id": "Lx1W2zFMXrMe"
      },
      "source": [
        ""
      ],
      "execution_count": null,
      "outputs": []
    },
    {
      "cell_type": "code",
      "metadata": {
        "id": "fXOwvg23cNut"
      },
      "source": [
        "OH_train_cols=pd.DataFrame(OHE.transform(np.array(df_train['Tag']).reshape(-1,1)))\n",
        "OH_test_cols=pd.DataFrame(OHE.transform(np.array(df_test['Tag']).reshape(-1,1)))"
      ],
      "execution_count": null,
      "outputs": []
    },
    {
      "cell_type": "code",
      "metadata": {
        "colab": {
          "base_uri": "https://localhost:8080/"
        },
        "id": "aq3IiSW_cZEX",
        "outputId": "fbfa45de-7e1f-49ba-cedb-2107e17160c4"
      },
      "source": [
        "print(OH_train_cols.shape)\n",
        "print(OH_test_cols.shape)"
      ],
      "execution_count": null,
      "outputs": [
        {
          "output_type": "stream",
          "text": [
            "(1432760, 146)\n",
            "(131422, 146)\n"
          ],
          "name": "stdout"
        }
      ]
    },
    {
      "cell_type": "code",
      "metadata": {
        "colab": {
          "base_uri": "https://localhost:8080/"
        },
        "id": "HLFnM2ZVdS6P",
        "outputId": "5a4d36ba-3ec1-4389-9345-984c25d58744"
      },
      "source": [
        "df_train=df_train.join(OH_train_cols)\n",
        "del OH_train_cols\n",
        "gc.collect()"
      ],
      "execution_count": null,
      "outputs": [
        {
          "output_type": "execute_result",
          "data": {
            "text/plain": [
              "200"
            ]
          },
          "metadata": {
            "tags": []
          },
          "execution_count": 36
        }
      ]
    },
    {
      "cell_type": "code",
      "metadata": {
        "colab": {
          "base_uri": "https://localhost:8080/"
        },
        "id": "KUzBtuY_g6_v",
        "outputId": "fd0c8dcc-f1ed-4b87-d36d-a42bbdad2130"
      },
      "source": [
        "df_test=df_test.join(OH_test_cols)\n",
        "del OH_test_cols\n",
        "gc.collect()"
      ],
      "execution_count": null,
      "outputs": [
        {
          "output_type": "execute_result",
          "data": {
            "text/plain": [
              "50"
            ]
          },
          "metadata": {
            "tags": []
          },
          "execution_count": 37
        }
      ]
    },
    {
      "cell_type": "code",
      "metadata": {
        "id": "eJiUc4XSdZ4c"
      },
      "source": [
        "df_train.drop(['fname','Tag','Text'],axis=1,inplace=True)\n",
        "df_test.drop(['fname','Tag','Text'],axis=1,inplace=True)"
      ],
      "execution_count": null,
      "outputs": []
    },
    {
      "cell_type": "code",
      "metadata": {
        "colab": {
          "base_uri": "https://localhost:8080/"
        },
        "id": "7h2vYwkHexXa",
        "outputId": "020b1663-c220-416f-c3a0-a27516c7b5b8"
      },
      "source": [
        "print(df_train.shape)\n",
        "print(df_test.shape)"
      ],
      "execution_count": null,
      "outputs": [
        {
          "output_type": "stream",
          "text": [
            "(1432760, 152)\n",
            "(131422, 152)\n"
          ],
          "name": "stdout"
        }
      ]
    },
    {
      "cell_type": "code",
      "metadata": {
        "id": "UnzPVDLhdniJ"
      },
      "source": [
        "df_train=df_train[df_train.SerialNo<1009]\n",
        "\n",
        "df_train0=df_train[df_train.Author_encoding==0]\n",
        "df_train1=df_train[df_train.Author_encoding==1]\n",
        "\n",
        "df_test=df_test[df_test.SerialNo<1009]\n",
        "\n",
        "df_test0=df_test[df_test.Author_encoding==0]\n",
        "df_test1=df_test[df_test.Author_encoding==1]"
      ],
      "execution_count": null,
      "outputs": []
    },
    {
      "cell_type": "code",
      "metadata": {
        "colab": {
          "base_uri": "https://localhost:8080/"
        },
        "id": "G679xwMqfEd-",
        "outputId": "249ae32b-a600-44a9-b8b5-32fb23d511e2"
      },
      "source": [
        "print(df_train1.shape)\n",
        "print(df_train0.shape)"
      ],
      "execution_count": null,
      "outputs": [
        {
          "output_type": "stream",
          "text": [
            "(9802, 152)\n",
            "(1171989, 152)\n"
          ],
          "name": "stdout"
        }
      ]
    },
    {
      "cell_type": "code",
      "metadata": {
        "id": "pFP-sIg5e-9i"
      },
      "source": [
        "df_train1=pd.concat([df_train1]*3, ignore_index=True)\n"
      ],
      "execution_count": null,
      "outputs": []
    },
    {
      "cell_type": "code",
      "metadata": {
        "colab": {
          "base_uri": "https://localhost:8080/"
        },
        "id": "EBzcPE1ahKqN",
        "outputId": "b64da6b5-fb6d-4707-8ba0-144b8dd7a415"
      },
      "source": [
        "print(df_train1.shape)\n",
        "print(df_train0.shape)"
      ],
      "execution_count": null,
      "outputs": [
        {
          "output_type": "stream",
          "text": [
            "(29406, 152)\n",
            "(1171989, 152)\n"
          ],
          "name": "stdout"
        }
      ]
    },
    {
      "cell_type": "code",
      "metadata": {
        "colab": {
          "base_uri": "https://localhost:8080/"
        },
        "id": "HB5ytNVWeAIr",
        "outputId": "e5d5e2ea-a006-4f6b-8682-898e1eecd9a9"
      },
      "source": [
        "print(df_train.shape)\n",
        "print(df_test.shape)\n",
        "\n",
        "print(f'Train 0:1 proportion:       {len(df_train0)/len(df_train1)}')\n",
        "print(f'Test 0:1 proportion:       {len(df_test0)/len(df_test1)}')"
      ],
      "execution_count": null,
      "outputs": [
        {
          "output_type": "stream",
          "text": [
            "(1181791, 152)\n",
            "(117572, 152)\n",
            "Train 0:1 proportion:       39.855437665782496\n",
            "Test 0:1 proportion:       125.69396551724138\n"
          ],
          "name": "stdout"
        }
      ]
    },
    {
      "cell_type": "code",
      "metadata": {
        "id": "zmepu2pTTdwR"
      },
      "source": [
        "df_train.reset_index(inplace=True)\n",
        "df_train.drop('index',axis=1,inplace=True)\n",
        "\n",
        "df_test.reset_index(inplace=True)\n",
        "df_test.drop('index',axis=1,inplace=True)"
      ],
      "execution_count": null,
      "outputs": []
    },
    {
      "cell_type": "code",
      "metadata": {
        "colab": {
          "base_uri": "https://localhost:8080/"
        },
        "id": "mvzC5MpPOJM-",
        "outputId": "734339bc-d998-4d0a-9f80-6b22bbb62212"
      },
      "source": [
        "negs=len(df_train0)\n",
        "pos=len(df_train1)\n",
        "print ('Negatives:',negs )\n",
        "print ('Positives:', pos)\n",
        "total=negs+pos"
      ],
      "execution_count": null,
      "outputs": [
        {
          "output_type": "stream",
          "text": [
            "Negatives: 1171989\n",
            "Positives: 29406\n"
          ],
          "name": "stdout"
        }
      ]
    },
    {
      "cell_type": "code",
      "metadata": {
        "id": "u9WzqqbCTqjl"
      },
      "source": [
        "weight_for_0 = (1 / negs) * (total / 2.0)\n",
        "weight_for_1 = (1 / pos) * (total / 2.0)\n",
        "\n",
        "class_weight = {0: weight_for_0, 1: weight_for_1}"
      ],
      "execution_count": null,
      "outputs": []
    },
    {
      "cell_type": "code",
      "metadata": {
        "colab": {
          "base_uri": "https://localhost:8080/"
        },
        "id": "45PZyxXfTszi",
        "outputId": "ad55ee0e-e814-4a59-d472-d73374f5dda1"
      },
      "source": [
        "class_weight"
      ],
      "execution_count": null,
      "outputs": [
        {
          "output_type": "execute_result",
          "data": {
            "text/plain": [
              "{0: 0.5125453395893648, 1: 20.427718832891244}"
            ]
          },
          "metadata": {
            "tags": []
          },
          "execution_count": 51
        }
      ]
    },
    {
      "cell_type": "code",
      "metadata": {
        "id": "W7fCg5mEhwqa"
      },
      "source": [
        "# del df_train\n",
        "# gc.collect()\n",
        "# del df_test\n",
        "# gc.collect()"
      ],
      "execution_count": null,
      "outputs": []
    },
    {
      "cell_type": "code",
      "metadata": {
        "id": "pc42bTVShJ3z",
        "colab": {
          "base_uri": "https://localhost:8080/"
        },
        "outputId": "d8d53382-35e8-4074-f815-de0f123b379c"
      },
      "source": [
        "target1 = df_train1.pop('Author_encoding')\n",
        "train_dataset1 = tf.data.Dataset.from_tensor_slices((df_train1.values, target1.values))\n",
        "\n",
        "del df_train1\n",
        "gc.collect()\n",
        "\n",
        "target0 = df_train0.pop('Author_encoding')\n",
        "train_dataset0 = tf.data.Dataset.from_tensor_slices((df_train0.values, target0.values))\n",
        "\n",
        "del df_train0\n",
        "gc.collect()"
      ],
      "execution_count": null,
      "outputs": [
        {
          "output_type": "execute_result",
          "data": {
            "text/plain": [
              "0"
            ]
          },
          "metadata": {
            "tags": []
          },
          "execution_count": 52
        }
      ]
    },
    {
      "cell_type": "code",
      "metadata": {
        "colab": {
          "base_uri": "https://localhost:8080/"
        },
        "id": "aeCTlVVahk78",
        "outputId": "8e42cdf8-0a6f-4047-ec1d-413d0a949e25"
      },
      "source": [
        "target1 = df_test1.pop('Author_encoding')\n",
        "test_dataset1 = tf.data.Dataset.from_tensor_slices((df_test1.values, target1.values))\n",
        "\n",
        "del df_test1\n",
        "gc.collect()\n",
        "\n",
        "target0 = df_test0.pop('Author_encoding')\n",
        "test_dataset0 = tf.data.Dataset.from_tensor_slices((df_test0.values, target0.values))\n",
        "\n",
        "del df_test0\n",
        "gc.collect()"
      ],
      "execution_count": null,
      "outputs": [
        {
          "output_type": "execute_result",
          "data": {
            "text/plain": [
              "0"
            ]
          },
          "metadata": {
            "tags": []
          },
          "execution_count": 53
        }
      ]
    },
    {
      "cell_type": "code",
      "metadata": {
        "colab": {
          "base_uri": "https://localhost:8080/"
        },
        "id": "tOTJXNsaiHfs",
        "outputId": "ef69b01d-f712-4c40-d7aa-1b12227b055f"
      },
      "source": [
        "train_dataset_sampled=tf.data.experimental.sample_from_datasets([train_dataset0, train_dataset1], weights=[0.75, 0.25])\n",
        "del train_dataset1\n",
        "del train_dataset0\n",
        "gc.collect()\n",
        "\n",
        "test_dataset_sampled=tf.data.experimental.sample_from_datasets([test_dataset0, test_dataset1], weights=[0.75, 0.25])\n",
        "del test_dataset1\n",
        "del test_dataset0\n",
        "gc.collect()"
      ],
      "execution_count": null,
      "outputs": [
        {
          "output_type": "execute_result",
          "data": {
            "text/plain": [
              "0"
            ]
          },
          "metadata": {
            "tags": []
          },
          "execution_count": 54
        }
      ]
    },
    {
      "cell_type": "code",
      "metadata": {
        "id": "gCYsNQBIE-Ce"
      },
      "source": [
        "train_dataset_sampled=train_dataset_sampled.batch(1024)\n",
        "test_dataset_sampled=test_dataset_sampled.batch(1024)"
      ],
      "execution_count": null,
      "outputs": []
    },
    {
      "cell_type": "code",
      "metadata": {
        "colab": {
          "base_uri": "https://localhost:8080/"
        },
        "id": "p8UodDHeElYM",
        "outputId": "ef97c839-b953-4f1d-efd0-957db10ba1ae"
      },
      "source": [
        "for feat, targ in train_dataset_sampled.take(2):\n",
        "  print ('{}'.format(targ),end=\" \")"
      ],
      "execution_count": null,
      "outputs": [
        {
          "output_type": "stream",
          "text": [
            "[1 0 0 ... 0 0 1] [0 1 0 ... 1 0 0] "
          ],
          "name": "stdout"
        }
      ]
    },
    {
      "cell_type": "code",
      "metadata": {
        "colab": {
          "base_uri": "https://localhost:8080/"
        },
        "id": "XY9iov-PHLmA",
        "outputId": "5872a58c-5dbf-4a8b-b585-dd9ce1d38fa4"
      },
      "source": [
        "train_dataset_sampled"
      ],
      "execution_count": null,
      "outputs": [
        {
          "output_type": "execute_result",
          "data": {
            "text/plain": [
              "<BatchDataset shapes: ((None, 151), (None,)), types: (tf.float64, tf.int64)>"
            ]
          },
          "metadata": {
            "tags": []
          },
          "execution_count": 57
        }
      ]
    },
    {
      "cell_type": "code",
      "metadata": {
        "id": "x9qBOs3Hjb3D"
      },
      "source": [
        "from tensorflow.keras import layers\n",
        "from tensorflow.keras import Model"
      ],
      "execution_count": null,
      "outputs": []
    },
    {
      "cell_type": "code",
      "metadata": {
        "colab": {
          "base_uri": "https://localhost:8080/"
        },
        "id": "vDaCtBfIjg_Z",
        "outputId": "87d30b0f-dfa3-40b1-cd5a-b45a6e504e15"
      },
      "source": [
        "inputs = keras.Input(shape=(151))\n",
        "x = layers.Dense(256, activation=\"relu\", name=\"first_layer\")(inputs)\n",
        "x = layers.Dense(128, activation=\"relu\", name=\"second_layer\")(x)\n",
        "outputs = layers.Dense(2, activation=\"softmax\")(x)\n",
        "model = keras.Model(inputs=inputs, outputs=outputs,name=\"Basic_ANN\")\n",
        "\n",
        "model.summary()"
      ],
      "execution_count": null,
      "outputs": [
        {
          "output_type": "stream",
          "text": [
            "Model: \"Basic_ANN\"\n",
            "_________________________________________________________________\n",
            "Layer (type)                 Output Shape              Param #   \n",
            "=================================================================\n",
            "input_1 (InputLayer)         [(None, 151)]             0         \n",
            "_________________________________________________________________\n",
            "first_layer (Dense)          (None, 256)               38912     \n",
            "_________________________________________________________________\n",
            "second_layer (Dense)         (None, 128)               32896     \n",
            "_________________________________________________________________\n",
            "dense (Dense)                (None, 2)                 258       \n",
            "=================================================================\n",
            "Total params: 72,066\n",
            "Trainable params: 72,066\n",
            "Non-trainable params: 0\n",
            "_________________________________________________________________\n"
          ],
          "name": "stdout"
        }
      ]
    },
    {
      "cell_type": "code",
      "metadata": {
        "id": "NI_PuqIkjk3i"
      },
      "source": [
        "model.compile(loss=tf.keras.losses.SparseCategoricalCrossentropy(),\n",
        "    optimizer=keras.optimizers.Adam(learning_rate=0.0001),\n",
        "    metrics=[\"accuracy\"],\n",
        ")"
      ],
      "execution_count": null,
      "outputs": []
    },
    {
      "cell_type": "code",
      "metadata": {
        "colab": {
          "base_uri": "https://localhost:8080/"
        },
        "id": "cJSAKT8vjnqv",
        "outputId": "b0c22295-e30d-467c-b9ea-f12301ec07fd"
      },
      "source": [
        "history=model.fit(train_dataset_sampled, epochs=20, verbose=1,class_weight=class_weight)"
      ],
      "execution_count": null,
      "outputs": [
        {
          "output_type": "stream",
          "text": [
            "WARNING:tensorflow:From /usr/local/lib/python3.7/dist-packages/tensorflow/python/ops/array_ops.py:5049: calling gather (from tensorflow.python.ops.array_ops) with validate_indices is deprecated and will be removed in a future version.\n",
            "Instructions for updating:\n",
            "The `validate_indices` argument has no effect. Indices are always validated on CPU and never validated on GPU.\n"
          ],
          "name": "stdout"
        },
        {
          "output_type": "stream",
          "text": [
            "WARNING:tensorflow:From /usr/local/lib/python3.7/dist-packages/tensorflow/python/ops/array_ops.py:5049: calling gather (from tensorflow.python.ops.array_ops) with validate_indices is deprecated and will be removed in a future version.\n",
            "Instructions for updating:\n",
            "The `validate_indices` argument has no effect. Indices are always validated on CPU and never validated on GPU.\n"
          ],
          "name": "stderr"
        },
        {
          "output_type": "stream",
          "text": [
            "Epoch 1/20\n",
            "1174/1174 [==============================] - 16s 12ms/step - loss: 0.3034 - accuracy: 0.9218\n",
            "Epoch 2/20\n",
            "1174/1174 [==============================] - 15s 12ms/step - loss: 4.5841 - accuracy: 0.9201\n",
            "Epoch 3/20\n",
            "1174/1174 [==============================] - 15s 12ms/step - loss: 3.5413 - accuracy: 0.9240\n",
            "Epoch 4/20\n",
            "1174/1174 [==============================] - 15s 12ms/step - loss: 4.7795 - accuracy: 0.9246\n",
            "Epoch 5/20\n",
            "1174/1174 [==============================] - 15s 12ms/step - loss: 1.9220 - accuracy: 0.9231\n",
            "Epoch 6/20\n",
            "1174/1174 [==============================] - 15s 12ms/step - loss: 2.2062 - accuracy: 0.9169\n",
            "Epoch 7/20\n",
            "1174/1174 [==============================] - 15s 12ms/step - loss: 1.2203 - accuracy: 0.9243\n",
            "Epoch 8/20\n",
            "1174/1174 [==============================] - 15s 12ms/step - loss: 3.1784 - accuracy: 0.9155\n",
            "Epoch 9/20\n",
            "1174/1174 [==============================] - 15s 12ms/step - loss: 2.1771 - accuracy: 0.9181\n",
            "Epoch 10/20\n",
            "1174/1174 [==============================] - 15s 12ms/step - loss: 2.4711 - accuracy: 0.9177\n",
            "Epoch 11/20\n",
            "1174/1174 [==============================] - 15s 12ms/step - loss: 1.2925 - accuracy: 0.9175\n",
            "Epoch 12/20\n",
            "1174/1174 [==============================] - 15s 12ms/step - loss: 2.1560 - accuracy: 0.9175\n",
            "Epoch 13/20\n",
            "1174/1174 [==============================] - 15s 12ms/step - loss: 1.7000 - accuracy: 0.9180\n",
            "Epoch 14/20\n",
            "1174/1174 [==============================] - 15s 12ms/step - loss: 1.9083 - accuracy: 0.9255\n",
            "Epoch 15/20\n",
            "1174/1174 [==============================] - 15s 12ms/step - loss: 3.4480 - accuracy: 0.9173\n",
            "Epoch 16/20\n",
            "1174/1174 [==============================] - 15s 12ms/step - loss: 1.1862 - accuracy: 0.9217\n",
            "Epoch 17/20\n",
            "1174/1174 [==============================] - 15s 12ms/step - loss: 1.7351 - accuracy: 0.9248\n",
            "Epoch 18/20\n",
            "1174/1174 [==============================] - 16s 13ms/step - loss: 2.1826 - accuracy: 0.9179\n",
            "Epoch 19/20\n",
            "1174/1174 [==============================] - 15s 12ms/step - loss: 1.3936 - accuracy: 0.9209\n",
            "Epoch 20/20\n",
            "1174/1174 [==============================] - 15s 12ms/step - loss: 1.1362 - accuracy: 0.9198\n"
          ],
          "name": "stdout"
        }
      ]
    },
    {
      "cell_type": "code",
      "metadata": {
        "colab": {
          "base_uri": "https://localhost:8080/"
        },
        "id": "j01nX8-OjrAV",
        "outputId": "d34c4614-4398-429a-de4e-e9a44cb05e82"
      },
      "source": [
        "model.evaluate(test_dataset_sampled)"
      ],
      "execution_count": null,
      "outputs": [
        {
          "output_type": "stream",
          "text": [
            "115/115 [==============================] - 2s 18ms/step - loss: 0.1031 - accuracy: 0.9909\n"
          ],
          "name": "stdout"
        },
        {
          "output_type": "execute_result",
          "data": {
            "text/plain": [
              "[0.10307913273572922, 0.9908992052078247]"
            ]
          },
          "metadata": {
            "tags": []
          },
          "execution_count": 62
        }
      ]
    },
    {
      "cell_type": "code",
      "metadata": {
        "id": "UmdEPcbakNjE"
      },
      "source": [
        "y_pred = model.predict(test_dataset_sampled)\n",
        "\n",
        "predicted_categories = tf.argmax(y_pred, axis=1)\n",
        "\n",
        "true_categories = tf.concat([y for x, y in test_dataset_sampled], axis=0)\n"
      ],
      "execution_count": null,
      "outputs": []
    },
    {
      "cell_type": "code",
      "metadata": {
        "colab": {
          "base_uri": "https://localhost:8080/"
        },
        "id": "hMCAvnJmmaeS",
        "outputId": "e60c3c86-6a04-4115-ff5c-f15a31c5a709"
      },
      "source": [
        "from sklearn.metrics import confusion_matrix\n",
        "\n",
        "confusion_matrix(predicted_categories, true_categories)"
      ],
      "execution_count": null,
      "outputs": [
        {
          "output_type": "execute_result",
          "data": {
            "text/plain": [
              "array([[116456,    918],\n",
              "       [   188,     10]])"
            ]
          },
          "metadata": {
            "tags": []
          },
          "execution_count": 64
        }
      ]
    },
    {
      "cell_type": "code",
      "metadata": {
        "colab": {
          "base_uri": "https://localhost:8080/"
        },
        "id": "XFucfj73mi95",
        "outputId": "1bc0f81a-946c-4cbe-b60e-432fc3bb188d"
      },
      "source": [
        "from sklearn.metrics import classification_report\n",
        "\n",
        "print(classification_report(predicted_categories, true_categories))"
      ],
      "execution_count": null,
      "outputs": [
        {
          "output_type": "stream",
          "text": [
            "              precision    recall  f1-score   support\n",
            "\n",
            "           0       1.00      0.99      1.00    117374\n",
            "           1       0.01      0.05      0.02       198\n",
            "\n",
            "    accuracy                           0.99    117572\n",
            "   macro avg       0.50      0.52      0.51    117572\n",
            "weighted avg       1.00      0.99      0.99    117572\n",
            "\n"
          ],
          "name": "stdout"
        }
      ]
    },
    {
      "cell_type": "code",
      "metadata": {
        "id": "epyfjRz9I5sz"
      },
      "source": [
        ""
      ],
      "execution_count": null,
      "outputs": []
    }
  ]
}